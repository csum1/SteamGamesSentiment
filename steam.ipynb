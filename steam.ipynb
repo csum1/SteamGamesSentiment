{
 "cells": [
  {
   "attachments": {},
   "cell_type": "markdown",
   "metadata": {},
   "source": [
    "__TU Graz__ - Foundations of Computational Social Systems - W2022\n",
    "## __Project: Sentiment analysis on Steam Games__"
   ]
  },
  {
   "attachments": {},
   "cell_type": "markdown",
   "metadata": {},
   "source": [
    "***\n",
    "#### __Project description__\n",
    "\n",
    "In this project we analyse the relations between the sentiments of game reviews on the gaming platform Steam. To access data on Steam we use the official RESTful Steam API. Some services require a web-key which is only available with an active Steam account. The description to activate the web-key can found here: https://steamcommunity.com/dev\n",
    "\n",
    "> IMPORTANT: After activation you need to insert the key to the constant 'STEAM_WEB_API_KEY' in the configuration section [Configuration constants](####configuration-constants) "
   ]
  },
  {
   "attachments": {},
   "cell_type": "markdown",
   "metadata": {},
   "source": [
    "__Our Hypotheses__\n",
    "\n",
    "* H1: There is a positive correlation between the sentiment of the reviews and the review-score of each game.\n",
    "* H2: There is a positive correlation between the sentiment of each review and its perceived helpfulness by the community.\n",
    "* H3: Reviews that recommend the game are more positive in their sentiment than reviews that do not recommend the game."
   ]
  },
  {
   "attachments": {},
   "cell_type": "markdown",
   "metadata": {},
   "source": [
    "__Step by step plan__\n",
    "\n",
    "Here are the steps that should give an overview of what this notebook does: \n",
    "1. Request all games (name and appid) from the Steam using its API\n",
    "2. For every game we retrieve its most helpful 100 reviews\n",
    "3. For every game:\n",
    "    * Perform sentiment analysis on every single review (We use VADER to perform sentiment analysis)\n",
    "4. Statistical analysis"
   ]
  },
  {
   "attachments": {},
   "cell_type": "markdown",
   "metadata": {},
   "source": [
    "***\n",
    "#### __File and Folder structure__\n",
    "- __FOLDER: sentiment__\n",
    "    - One file for one game. Every file contains the sentiment scores of 100 reviews. \n",
    "    - Filename: [appid].pkl\n",
    "- __FOLDER: reviews__\n",
    "    - One file for one game. Every file contains game infos and at least 100 reviewdata.\n",
    "    - Filename: [appid].pkl\n",
    "- __FILE: irrelevant_apps.pkl__\n",
    "    - For a container that represents all games that are not relevant\n",
    "    - Consits of one big dictionary which keys are the appid and information of why this game is irrelevant for our analysis. \n",
    "- __FILE: games.pkl__\n",
    "- __FILE: all_reviews.pkl__\n",
    "- __FILE: all_games.pkl__"
   ]
  },
  {
   "attachments": {},
   "cell_type": "markdown",
   "metadata": {},
   "source": [
    "***\n",
    "#### __Contents of this Notebook__\n",
    "> [Setup](###setup) > [Required modules](####required-modules) > [Configuration constants](####configuration-constants) > [Steam API functionality](####steam-api-functionality)\n",
    "\n",
    "\n",
    "* [1 Download Data](#1-download-data)\n",
    "    * [1.1 Download games data](#11-get-all-steam-games-and-filter-for-relevance)\n",
    "    * [1.2 Download game reviews](#12-get-reviews-of-each-game)\n",
    "* [2 Sentiment Analysis](#2-sentiment-analysis)\n",
    "* [3 Data Processing](#3-process-data)\n",
    "* [4 Statistical Analysis](#4-statistical-analysis)\n",
    "    * [4.1 Hypothesis H1](#41-hypothesis-h1)\n",
    "    * [4.2 Hypothesis H2](#42-hypothesis-h2)\n",
    "    * [4.3 Hypothesis H3](#43-hypothesis-h3)\n",
    "* [5 Conclusions](#5-conclusions)"
   ]
  },
  {
   "attachments": {},
   "cell_type": "markdown",
   "metadata": {},
   "source": [
    "***\n",
    "[< back to contents](#contents-of-this-notebook)\n",
    "### __Setup__"
   ]
  },
  {
   "attachments": {},
   "cell_type": "markdown",
   "metadata": {},
   "source": [
    "#### __Required modules__"
   ]
  },
  {
   "cell_type": "code",
   "execution_count": null,
   "metadata": {},
   "outputs": [],
   "source": [
    "! pip install vaderSentiment\n",
    "! pip install pandas\n",
    "! pip install pickle"
   ]
  },
  {
   "cell_type": "code",
   "execution_count": 17,
   "metadata": {},
   "outputs": [],
   "source": [
    "import requests\n",
    "from requests.exceptions import HTTPError\n",
    "import json\n",
    "import urllib.parse\n",
    "import pandas as pd\n",
    "import pickle\n",
    "from os import path, mkdir\n",
    "from vaderSentiment.vaderSentiment import SentimentIntensityAnalyzer\n",
    "import matplotlib.pyplot as plt\n",
    "from scipy import stats\n",
    "import numpy as np"
   ]
  },
  {
   "attachments": {},
   "cell_type": "markdown",
   "metadata": {},
   "source": [
    "#### __Configuration constants__"
   ]
  },
  {
   "cell_type": "code",
   "execution_count": 2,
   "metadata": {},
   "outputs": [],
   "source": [
    "# The Steam web key needs to be set here:\n",
    "STEAM_WEB_API_KEY = '#########################'\n",
    "\n",
    "# General settings:\n",
    "NEEDED_NUM_REVIEWS_PER_GAME = 100\n",
    "REVIEWS_DIR = 'reviews'\n",
    "SENTIMENT_DIR = 'sentiment'\n",
    "\n",
    "# Stages:\n",
    "ALREADY_DOWNLOADED_REVIEWS = True\n",
    "ALREADY_DOWNLOADED_GAMES = True\n",
    "ALREADY_PERFORMED_SENTIMENT_ANALYSIS = True\n",
    "ALREADY_COMBINED_DATASETS = True"
   ]
  },
  {
   "attachments": {},
   "cell_type": "markdown",
   "metadata": {},
   "source": [
    "#### __Steam API Functionality__"
   ]
  },
  {
   "cell_type": "code",
   "execution_count": 3,
   "metadata": {},
   "outputs": [],
   "source": [
    "def dict_to_string(dictionary:dict) -> str:\n",
    "    '''\n",
    "    The Steam API allows json formatted variables in the url\n",
    "    This is a helper function for this functionality\n",
    "    '''\n",
    "    string_elements = []\n",
    "    for (key, value) in dictionary.items():\n",
    "        string_elements.append(f\"{key}: {dict_to_string(value) if isinstance(value, dict) else str(value)}\")\n",
    "    return \"{%s}\"%\", \".join(string_elements)\n",
    "\n",
    "def request_resource(api_url:str, url_args:dict, show_output:bool=True, retries=10) -> dict|None:\n",
    "    '''\n",
    "    Download json data from a given url + its arguments\n",
    "    Return None if some error happened\n",
    "    '''\n",
    "    if show_output: print(f\"REQUEST TO {api_url} args {url_args}\")\n",
    "    payload = None\n",
    "    while retries > 0:\n",
    "        try:\n",
    "            response = requests.get(api_url, params=url_args)\n",
    "            response.raise_for_status\n",
    "            #response.encoding = 'utf-8'\n",
    "            payload = response.json()\n",
    "        except HTTPError as http_err:\n",
    "            print(f\"HTTP error occurred: {http_err}\")\n",
    "        except ValueError as err:\n",
    "            print(f\"Payload is not json: {err}\")\n",
    "        except Exception as err:\n",
    "            print(f\"Other error occurred: {err}\")  \n",
    "        else:\n",
    "            if show_output:\n",
    "                print(' => Success!')\n",
    "                break  \n",
    "        retries -= 1\n",
    "    return payload\n",
    "\n",
    "# ============== Steam API service functionality ================\n",
    "\n",
    "def download_steam_applist() -> dict:\n",
    "    '''\n",
    "    Collects all applications available on Steam (includes everything)\n",
    "    List of appids and according application titles\n",
    "    '''\n",
    "    api_url = 'https://api.steampowered.com/ISteamApps/GetAppList/v2/'\n",
    "    args = {}\n",
    "    apps = request_resource(api_url, args)\n",
    "    return apps if apps is not None else dict()\n",
    "\n",
    "def download_steam_games() -> pd.DataFrame:\n",
    "    '''\n",
    "    Collects all relevant Steam games (only gaming software, no DLCs)\n",
    "    List of appids and according game titles\n",
    "    '''\n",
    "    api_url = \"https://api.steampowered.com/IStoreService/GetAppList/v1\"\n",
    "    args = {\n",
    "        'key': STEAM_WEB_API_KEY,\n",
    "        'have_description_language' : 'english',\n",
    "        'include_games': True,\n",
    "        'include_dlc' : False,\n",
    "        'include_software' : False,\n",
    "        'include_videos' : False,\n",
    "        'include_hardware' : False,\n",
    "        'max_results' : 50000\n",
    "    }\n",
    "    apps = []\n",
    "    have_more_results = True\n",
    "    while have_more_results:\n",
    "        data = request_resource(api_url, args, show_output=False)\n",
    "        if data == None: break\n",
    "        data = data['response']\n",
    "        apps += [{'appid': app['appid'], 'name': app['name']} for app in data['apps']]\n",
    "        \n",
    "        # have_more_results indicates that there are more pages\n",
    "        # last_appid functions like the page index for the next page\n",
    "        # if there are no more apps (=we are on the last page)\n",
    "        if 'have_more_results' not in data or 'last_appid' not in data: break\n",
    "        have_more_results = data['have_more_results']\n",
    "        args['last_appid'] = data['last_appid']\n",
    "    return pd.DataFrame(apps)\n",
    "\n",
    "def download_steam_reviews_of_game(gameid: int, min_num_reviews: int, show_output: bool=True) -> dict|None:\n",
    "    '''\n",
    "    Collects a minimum number of reviews of a given gameid(=appid) on the Steam store.\n",
    "    Return a dictionary that contains the games review score, data of its reviews\n",
    "    STEAMWORKS documentation: https://partner.steamgames.com/doc/store/getreviews\n",
    "    '''\n",
    "    api_url = \"http://store.steampowered.com/appreviews/\" + str(gameid)\n",
    "    args = {\n",
    "        'json': 1,\n",
    "        'filter': 'all',\n",
    "        'language': 'english',\n",
    "        'day_range': 365,\n",
    "        'cursor': '*',\n",
    "        'review_type': 'all',\n",
    "        'purchase_type': 'all'\n",
    "    }\n",
    "    STEAM_API_MAX_NUM_REVIEWS_PER_PAGE = 100\n",
    "\n",
    "    # First query for game rating information and the first chunk of reviews\n",
    "    data = request_resource(api_url, args, show_output=show_output)\n",
    "    if data is None or data['success'] == 0: \n",
    "        return None\n",
    "    query_summary = data['query_summary']\n",
    "    game_reviews = {\n",
    "        'review_score' : query_summary['review_score'],\n",
    "        'total_positive' : query_summary['total_positive'],\n",
    "        'total_negative' : query_summary['total_negative'],\n",
    "        'total_reviews' : query_summary['total_reviews'],\n",
    "        'num_reviews' : 0,\n",
    "        'reviews' : []\n",
    "    }\n",
    "    prev_cursors = []\n",
    "    cursor = data['cursor']\n",
    "    args['num_per_page'] = STEAM_API_MAX_NUM_REVIEWS_PER_PAGE\n",
    "\n",
    "    while True:\n",
    "        # Get review texts\n",
    "        game_reviews['reviews'] += [{\n",
    "                'text' : review['review'], \n",
    "                'weighted_vote_score' : review['weighted_vote_score'],\n",
    "                'voted_up' : review['voted_up'],\n",
    "                'votes_up' : review['votes_up'],\n",
    "                'votes_funny' : review['votes_funny']\n",
    "            } for review in data['reviews']]\n",
    "        game_reviews['num_reviews'] += len(data['reviews'])\n",
    "        if game_reviews['num_reviews'] >= min_num_reviews: \n",
    "            break\n",
    "\n",
    "        # Update cursor for pagination\n",
    "        if cursor in prev_cursors: \n",
    "            break\n",
    "        prev_cursors.append(cursor)\n",
    "        cursor = data['cursor'].encode()\n",
    "        args['cursor'] = cursor\n",
    "\n",
    "        # Get next page\n",
    "        data = request_resource(api_url, args, show_output=show_output)\n",
    "        if data is None or data['success'] == 0: \n",
    "            break\n",
    "    return game_reviews"
   ]
  },
  {
   "attachments": {},
   "cell_type": "markdown",
   "metadata": {},
   "source": [
    "[< back to contents](####contents-of-this-notebook)\n",
    "***\n",
    "## 1 Download data \n",
    "### 1.1 Get all steam games and filter for relevance\n",
    "\n",
    "Download a list with all relevant games on Steam"
   ]
  },
  {
   "cell_type": "code",
   "execution_count": 3,
   "metadata": {},
   "outputs": [
    {
     "name": "stdout",
     "output_type": "stream",
     "text": [
      "Loading games from disk\n"
     ]
    },
    {
     "data": {
      "text/html": [
       "<div>\n",
       "<style scoped>\n",
       "    .dataframe tbody tr th:only-of-type {\n",
       "        vertical-align: middle;\n",
       "    }\n",
       "\n",
       "    .dataframe tbody tr th {\n",
       "        vertical-align: top;\n",
       "    }\n",
       "\n",
       "    .dataframe thead th {\n",
       "        text-align: right;\n",
       "    }\n",
       "</style>\n",
       "<table border=\"1\" class=\"dataframe\">\n",
       "  <thead>\n",
       "    <tr style=\"text-align: right;\">\n",
       "      <th></th>\n",
       "      <th>appid</th>\n",
       "      <th>name</th>\n",
       "    </tr>\n",
       "  </thead>\n",
       "  <tbody>\n",
       "    <tr>\n",
       "      <th>0</th>\n",
       "      <td>10</td>\n",
       "      <td>Counter-Strike</td>\n",
       "    </tr>\n",
       "    <tr>\n",
       "      <th>1</th>\n",
       "      <td>20</td>\n",
       "      <td>Team Fortress Classic</td>\n",
       "    </tr>\n",
       "    <tr>\n",
       "      <th>2</th>\n",
       "      <td>30</td>\n",
       "      <td>Day of Defeat</td>\n",
       "    </tr>\n",
       "    <tr>\n",
       "      <th>3</th>\n",
       "      <td>40</td>\n",
       "      <td>Deathmatch Classic</td>\n",
       "    </tr>\n",
       "    <tr>\n",
       "      <th>4</th>\n",
       "      <td>50</td>\n",
       "      <td>Half-Life: Opposing Force</td>\n",
       "    </tr>\n",
       "    <tr>\n",
       "      <th>...</th>\n",
       "      <td>...</td>\n",
       "      <td>...</td>\n",
       "    </tr>\n",
       "    <tr>\n",
       "      <th>76798</th>\n",
       "      <td>2246840</td>\n",
       "      <td>A Desert Christmas Story</td>\n",
       "    </tr>\n",
       "    <tr>\n",
       "      <th>76799</th>\n",
       "      <td>2246880</td>\n",
       "      <td>STANDBOX</td>\n",
       "    </tr>\n",
       "    <tr>\n",
       "      <th>76800</th>\n",
       "      <td>2247360</td>\n",
       "      <td>Little Porp</td>\n",
       "    </tr>\n",
       "    <tr>\n",
       "      <th>76801</th>\n",
       "      <td>2247490</td>\n",
       "      <td>Stepmom</td>\n",
       "    </tr>\n",
       "    <tr>\n",
       "      <th>76802</th>\n",
       "      <td>2247690</td>\n",
       "      <td>Kula</td>\n",
       "    </tr>\n",
       "  </tbody>\n",
       "</table>\n",
       "<p>76803 rows × 2 columns</p>\n",
       "</div>"
      ],
      "text/plain": [
       "         appid                       name\n",
       "0           10             Counter-Strike\n",
       "1           20      Team Fortress Classic\n",
       "2           30              Day of Defeat\n",
       "3           40         Deathmatch Classic\n",
       "4           50  Half-Life: Opposing Force\n",
       "...        ...                        ...\n",
       "76798  2246840   A Desert Christmas Story\n",
       "76799  2246880                   STANDBOX\n",
       "76800  2247360                Little Porp\n",
       "76801  2247490                    Stepmom\n",
       "76802  2247690                       Kula\n",
       "\n",
       "[76803 rows x 2 columns]"
      ]
     },
     "metadata": {},
     "output_type": "display_data"
    }
   ],
   "source": [
    "def get_all_games() -> pd.DataFrame:\n",
    "    '''\n",
    "    Returns a dataframe that contains all Steam games. \n",
    "    If the data was already downloaded the dataframe is loaded from storage otherwise freshly downloaded.\n",
    "    '''\n",
    "    def _load_games() -> pd.DataFrame:\n",
    "        return pd.read_pickle(\"games.pkl\")\n",
    "\n",
    "    def _save_games(games:pd.DataFrame) -> None:\n",
    "        games.to_pickle(\"games.pkl\")\n",
    "\n",
    "    if ALREADY_DOWNLOADED_GAMES:\n",
    "        print(\"Loading games from disk\")\n",
    "        return _load_games()\n",
    "    else:\n",
    "        print(\"Downloading games from steam\")\n",
    "        df = download_steam_games()\n",
    "        _save_games(df)\n",
    "        return df\n",
    "\n",
    "df_all_games = get_all_games()\n",
    "display(df_all_games)"
   ]
  },
  {
   "attachments": {},
   "cell_type": "markdown",
   "metadata": {},
   "source": [
    "### 1.2 Get reviews of each game \n",
    "\n",
    "Utility functions to help with saving and loading game reviews"
   ]
  },
  {
   "cell_type": "code",
   "execution_count": 4,
   "metadata": {},
   "outputs": [],
   "source": [
    "def create_dir_if_not_exists(folder_name:str) -> None:\n",
    "    if not path.exists(folder_name):\n",
    "        mkdir(folder_name)\n",
    "\n",
    "def log_error(error_line:str) -> None:\n",
    "    with open(\"error_log.txt\", \"a+\") as f:\n",
    "        f.write(error_line + \"\\n\")\n",
    "\n",
    "def reviews_retrieved(appid:int) -> bool:\n",
    "    return path.exists(f\"{REVIEWS_DIR}/{appid}.pkl\")\n",
    "\n",
    "def save_reviews(appid:int, review_data:dict) -> None:\n",
    "    file_path = f\"{REVIEWS_DIR}/{appid}.pkl\"\n",
    "    with open(file_path, \"wb\") as f:\n",
    "        pickle.dump(review_data, f)\n",
    "\n",
    "def load_reviews(appid:int) -> dict:\n",
    "    review = dict()\n",
    "    file_path = f\"{REVIEWS_DIR}/{appid}.pkl\"\n",
    "    with open(file_path, \"rb\") as f:\n",
    "        review = pickle.load(f)\n",
    "    return review\n",
    "\n",
    "def load_irrelevant_games() -> dict:\n",
    "    appids = dict()\n",
    "    file_path = \"irrelevant_apps.pkl\"\n",
    "    if path.exists(file_path):\n",
    "        with open(file_path, \"rb\") as f:\n",
    "            appids = pickle.load(f)\n",
    "    return appids\n",
    "    \n",
    "def is_irrelevant_game(appid:int, review_data:dict, irrelevant_games:dict) -> bool:\n",
    "    '''\n",
    "    A game is irrelevant if it does not have at least NEEDED_NUM_REVIEWS_PER_GAME reviews\n",
    "    '''\n",
    "    # Not sure if this is really that good tbh\n",
    "    def _save_irrelevant_games(appids:dict) -> None:\n",
    "        file_path = \"irrelevant_apps.pkl\"\n",
    "        with open(file_path, \"wb+\") as f:\n",
    "            pickle.dump(appids, f)\n",
    "    # Criterions of game reviews to be relevant\n",
    "    error_msg = \"\"\n",
    "    error_happened = False\n",
    "    if review_data is None:\n",
    "        error_msg = \"reviews could not be retrieved\"\n",
    "        error_happened = True\n",
    "    elif review_data['num_reviews'] < NEEDED_NUM_REVIEWS_PER_GAME:\n",
    "        error_msg = f\"{review_data['num_reviews']} reviews\"\n",
    "        error_happened = True\n",
    "    if error_happened:\n",
    "        irrelevant_games[appid] = error_msg\n",
    "        _save_irrelevant_games(irrelevant_games)\n",
    "        print(\" - \", appid, error_msg)\n",
    "        return True\n",
    "    return False"
   ]
  },
  {
   "attachments": {},
   "cell_type": "markdown",
   "metadata": {},
   "source": [
    "Download reviews of all relevant games"
   ]
  },
  {
   "cell_type": "code",
   "execution_count": 5,
   "metadata": {},
   "outputs": [],
   "source": [
    "if not ALREADY_DOWNLOADED_REVIEWS:\n",
    "    irrelevant_games = load_irrelevant_games()\n",
    "    num_games = df_all_games.shape[0]\n",
    "    num_processed_games = 0\n",
    "\n",
    "    for appid in df_all_games['appid']:\n",
    "        if reviews_retrieved(appid) or appid in irrelevant_games:\n",
    "            continue\n",
    "\n",
    "        review_data = download_steam_reviews_of_game(appid, min_num_reviews=NEEDED_NUM_REVIEWS_PER_GAME, show_output=False)\n",
    "        if is_irrelevant_game(appid, review_data, irrelevant_games):\n",
    "            continue\n",
    "        \n",
    "        save_reviews(appid, review_data)\n",
    "        num_processed_games += 1\n",
    "        print(num_processed_games, \"/\", num_games, \":\", appid, \"processed\")"
   ]
  },
  {
   "attachments": {},
   "cell_type": "markdown",
   "metadata": {},
   "source": [
    "[< back to contents](####contents-of-this-notebook)\n",
    "***\n",
    "## 2 Sentiment Analysis\n",
    "#### 2.1 Perform sentiment analysis on each review of every game\n",
    "\n",
    "Utility functions for sentiment analysis"
   ]
  },
  {
   "cell_type": "code",
   "execution_count": 6,
   "metadata": {},
   "outputs": [],
   "source": [
    "def sentiments_retrieved(appid:int) -> bool:\n",
    "    file_path = f\"{SENTIMENT_DIR}/{appid}.pkl\"\n",
    "    return path.exists(file_path)\n",
    "\n",
    "def save_sentiments(appid:int, df:pd.DataFrame) -> None:\n",
    "    file_path = f\"{SENTIMENT_DIR}/{appid}.pkl\"\n",
    "    create_dir_if_not_exists(SENTIMENT_DIR)\n",
    "    df.to_pickle(file_path)\n",
    "\n",
    "def load_sentiments(appid:int) -> pd.DataFrame:\n",
    "    file_path = f\"{SENTIMENT_DIR}/{appid}.pkl\"\n",
    "    if path.exists(file_path):\n",
    "        df = pd.read_pickle(file_path)\n",
    "        assert isinstance(df, pd.DataFrame)\n",
    "        return df\n",
    "    return pd.DataFrame()"
   ]
  },
  {
   "attachments": {},
   "cell_type": "markdown",
   "metadata": {},
   "source": [
    "For sentiment analysis we use **VADER**. According to its documentation the compound score means:\n",
    "        'compound' >= 0.05 : 'Positive'\n",
    "        'compound' <= -0.05 : 'Negative'\n",
    "        else : 'Neutral'\n",
    "\n",
    "Performs sentiment analysis on the reviews of every game:"
   ]
  },
  {
   "cell_type": "code",
   "execution_count": 7,
   "metadata": {},
   "outputs": [],
   "source": [
    "if not ALREADY_PERFORMED_SENTIMENT_ANALYSIS:\n",
    "    \n",
    "    analyser = SentimentIntensityAnalyzer()\n",
    "\n",
    "    for appid in df_all_games['appid']:\n",
    "\n",
    "        if sentiments_retrieved(appid) or not reviews_retrieved(appid):\n",
    "            continue\n",
    "        \n",
    "        print(\"analysing\", appid)\n",
    "        game_reviews = load_reviews(appid)\n",
    "        df_game_reviews = pd.DataFrame(game_reviews['reviews']).loc[0:NEEDED_NUM_REVIEWS_PER_GAME-1]\n",
    "        if df_game_reviews.shape[0] < NEEDED_NUM_REVIEWS_PER_GAME: # should not happen at this stage!\n",
    "            log_error(f\"{appid}: not enough reviews for sentiment analysis\")\n",
    "            continue\n",
    "        \n",
    "        sentiments = [analyser.polarity_scores(text) for text in df_game_reviews['text']]\n",
    "        df_sentiments = pd.DataFrame(sentiments)\n",
    "        save_sentiments(appid, df_sentiments)"
   ]
  },
  {
   "attachments": {},
   "cell_type": "markdown",
   "metadata": {},
   "source": [
    "[< back to contents](####contents-of-this-notebook)\n",
    "***\n",
    "## 3 Process data\n",
    "\n",
    "Generate two big dataframes:\n",
    "1. with all relevant informations of the selected games with the mean sentiment scores of its reviews\n",
    "2. all downloaded reviews with the according sentiment scores "
   ]
  },
  {
   "cell_type": "code",
   "execution_count": 9,
   "metadata": {},
   "outputs": [
    {
     "name": "stdout",
     "output_type": "stream",
     "text": [
      "Loading from disk\n",
      "games: 22045\n",
      "reviews: 2204500\n"
     ]
    },
    {
     "data": {
      "text/plain": [
       "'df_games'"
      ]
     },
     "metadata": {},
     "output_type": "display_data"
    },
    {
     "data": {
      "text/html": [
       "<div>\n",
       "<style scoped>\n",
       "    .dataframe tbody tr th:only-of-type {\n",
       "        vertical-align: middle;\n",
       "    }\n",
       "\n",
       "    .dataframe tbody tr th {\n",
       "        vertical-align: top;\n",
       "    }\n",
       "\n",
       "    .dataframe thead th {\n",
       "        text-align: right;\n",
       "    }\n",
       "</style>\n",
       "<table border=\"1\" class=\"dataframe\">\n",
       "  <thead>\n",
       "    <tr style=\"text-align: right;\">\n",
       "      <th></th>\n",
       "      <th>appid</th>\n",
       "      <th>review_score</th>\n",
       "      <th>sent.mean_pos</th>\n",
       "      <th>sent.mean_neg</th>\n",
       "      <th>sent.mean_neu</th>\n",
       "      <th>sent.mean_comp</th>\n",
       "    </tr>\n",
       "  </thead>\n",
       "  <tbody>\n",
       "    <tr>\n",
       "      <th>0</th>\n",
       "      <td>10</td>\n",
       "      <td>9</td>\n",
       "      <td>0.27963</td>\n",
       "      <td>0.04258</td>\n",
       "      <td>0.66780</td>\n",
       "      <td>0.318194</td>\n",
       "    </tr>\n",
       "    <tr>\n",
       "      <th>1</th>\n",
       "      <td>20</td>\n",
       "      <td>8</td>\n",
       "      <td>0.18169</td>\n",
       "      <td>0.07878</td>\n",
       "      <td>0.71952</td>\n",
       "      <td>0.225828</td>\n",
       "    </tr>\n",
       "    <tr>\n",
       "      <th>2</th>\n",
       "      <td>30</td>\n",
       "      <td>8</td>\n",
       "      <td>0.32749</td>\n",
       "      <td>0.07685</td>\n",
       "      <td>0.59565</td>\n",
       "      <td>0.327002</td>\n",
       "    </tr>\n",
       "    <tr>\n",
       "      <th>3</th>\n",
       "      <td>40</td>\n",
       "      <td>8</td>\n",
       "      <td>0.21444</td>\n",
       "      <td>0.10637</td>\n",
       "      <td>0.67925</td>\n",
       "      <td>0.335279</td>\n",
       "    </tr>\n",
       "    <tr>\n",
       "      <th>4</th>\n",
       "      <td>50</td>\n",
       "      <td>9</td>\n",
       "      <td>0.18644</td>\n",
       "      <td>0.06789</td>\n",
       "      <td>0.74569</td>\n",
       "      <td>0.297273</td>\n",
       "    </tr>\n",
       "  </tbody>\n",
       "</table>\n",
       "</div>"
      ],
      "text/plain": [
       "   appid  review_score  sent.mean_pos  sent.mean_neg  sent.mean_neu  \\\n",
       "0     10             9        0.27963        0.04258        0.66780   \n",
       "1     20             8        0.18169        0.07878        0.71952   \n",
       "2     30             8        0.32749        0.07685        0.59565   \n",
       "3     40             8        0.21444        0.10637        0.67925   \n",
       "4     50             9        0.18644        0.06789        0.74569   \n",
       "\n",
       "   sent.mean_comp  \n",
       "0        0.318194  \n",
       "1        0.225828  \n",
       "2        0.327002  \n",
       "3        0.335279  \n",
       "4        0.297273  "
      ]
     },
     "metadata": {},
     "output_type": "display_data"
    },
    {
     "data": {
      "text/plain": [
       "'df_reviews'"
      ]
     },
     "metadata": {},
     "output_type": "display_data"
    },
    {
     "data": {
      "text/html": [
       "<div>\n",
       "<style scoped>\n",
       "    .dataframe tbody tr th:only-of-type {\n",
       "        vertical-align: middle;\n",
       "    }\n",
       "\n",
       "    .dataframe tbody tr th {\n",
       "        vertical-align: top;\n",
       "    }\n",
       "\n",
       "    .dataframe thead th {\n",
       "        text-align: right;\n",
       "    }\n",
       "</style>\n",
       "<table border=\"1\" class=\"dataframe\">\n",
       "  <thead>\n",
       "    <tr style=\"text-align: right;\">\n",
       "      <th></th>\n",
       "      <th>appid</th>\n",
       "      <th>reviewid</th>\n",
       "      <th>text</th>\n",
       "      <th>weighted_vote_score</th>\n",
       "      <th>voted_up</th>\n",
       "      <th>votes_up</th>\n",
       "      <th>sent.pos</th>\n",
       "      <th>sent.neg</th>\n",
       "      <th>sent.neu</th>\n",
       "      <th>sent.comp</th>\n",
       "    </tr>\n",
       "  </thead>\n",
       "  <tbody>\n",
       "    <tr>\n",
       "      <th>0</th>\n",
       "      <td>10</td>\n",
       "      <td>0</td>\n",
       "      <td>Sometimes you will never know the value of a m...</td>\n",
       "      <td>0.912457</td>\n",
       "      <td>True</td>\n",
       "      <td>110</td>\n",
       "      <td>0.000</td>\n",
       "      <td>0.127</td>\n",
       "      <td>0.873</td>\n",
       "      <td>-0.2584</td>\n",
       "    </tr>\n",
       "    <tr>\n",
       "      <th>1</th>\n",
       "      <td>10</td>\n",
       "      <td>1</td>\n",
       "      <td>One of the best games of our childhood. I don'...</td>\n",
       "      <td>0.902938</td>\n",
       "      <td>True</td>\n",
       "      <td>135</td>\n",
       "      <td>0.418</td>\n",
       "      <td>0.000</td>\n",
       "      <td>0.582</td>\n",
       "      <td>0.9442</td>\n",
       "    </tr>\n",
       "    <tr>\n",
       "      <th>2</th>\n",
       "      <td>10</td>\n",
       "      <td>2</td>\n",
       "      <td>Players who's still play this game:\\n⣿⣿⣿⣿⣿⣿⣿⣿⡿...</td>\n",
       "      <td>0.883803</td>\n",
       "      <td>True</td>\n",
       "      <td>105</td>\n",
       "      <td>0.074</td>\n",
       "      <td>0.000</td>\n",
       "      <td>0.926</td>\n",
       "      <td>0.3400</td>\n",
       "    </tr>\n",
       "    <tr>\n",
       "      <th>3</th>\n",
       "      <td>10</td>\n",
       "      <td>3</td>\n",
       "      <td>joining a server is like russian roulette</td>\n",
       "      <td>0.879243</td>\n",
       "      <td>True</td>\n",
       "      <td>84</td>\n",
       "      <td>0.294</td>\n",
       "      <td>0.000</td>\n",
       "      <td>0.706</td>\n",
       "      <td>0.3612</td>\n",
       "    </tr>\n",
       "    <tr>\n",
       "      <th>4</th>\n",
       "      <td>10</td>\n",
       "      <td>4</td>\n",
       "      <td>people who still play this game\\n⣿⣿⣿⣿⣿⣿⣿⣿⡿⠿⠛⠛⠛...</td>\n",
       "      <td>0.869217</td>\n",
       "      <td>True</td>\n",
       "      <td>116</td>\n",
       "      <td>0.074</td>\n",
       "      <td>0.000</td>\n",
       "      <td>0.926</td>\n",
       "      <td>0.3400</td>\n",
       "    </tr>\n",
       "  </tbody>\n",
       "</table>\n",
       "</div>"
      ],
      "text/plain": [
       "   appid  reviewid                                               text  \\\n",
       "0     10         0  Sometimes you will never know the value of a m...   \n",
       "1     10         1  One of the best games of our childhood. I don'...   \n",
       "2     10         2  Players who's still play this game:\\n⣿⣿⣿⣿⣿⣿⣿⣿⡿...   \n",
       "3     10         3          joining a server is like russian roulette   \n",
       "4     10         4  people who still play this game\\n⣿⣿⣿⣿⣿⣿⣿⣿⡿⠿⠛⠛⠛...   \n",
       "\n",
       "   weighted_vote_score  voted_up  votes_up  sent.pos  sent.neg  sent.neu  \\\n",
       "0             0.912457      True       110     0.000     0.127     0.873   \n",
       "1             0.902938      True       135     0.418     0.000     0.582   \n",
       "2             0.883803      True       105     0.074     0.000     0.926   \n",
       "3             0.879243      True        84     0.294     0.000     0.706   \n",
       "4             0.869217      True       116     0.074     0.000     0.926   \n",
       "\n",
       "   sent.comp  \n",
       "0    -0.2584  \n",
       "1     0.9442  \n",
       "2     0.3400  \n",
       "3     0.3612  \n",
       "4     0.3400  "
      ]
     },
     "metadata": {},
     "output_type": "display_data"
    }
   ],
   "source": [
    "def get_games_and_reviews() -> tuple[pd.DataFrame, pd.DataFrame]:\n",
    "    '''\n",
    "    Combines the downloaded data with the calculated sentiments scores into two dataframes\n",
    "    Returns:\n",
    "        1. dataframe: games with mean sentiments scores (calculated out of review sentiments)\n",
    "        2. dataframe: all downloaded reviews with according sentiment scores\n",
    "    '''\n",
    "    def _load_game_review_sentiment_data() -> tuple[pd.DataFrame, pd.DataFrame]:\n",
    "        return (pd.read_pickle(\"all_games.pkl\"), pd.read_pickle(\"all_reviews.pkl\"))\n",
    "\n",
    "    def _combine_game_review_sentiment_data() -> tuple[pd.DataFrame, pd.DataFrame]:\n",
    "        reviews_list = []\n",
    "        games_list = []\n",
    "\n",
    "        for appid in df_all_games['appid']:\n",
    "            if not sentiments_retrieved(appid) or not reviews_retrieved(appid):\n",
    "                continue\n",
    "            \n",
    "            df_sentiments = load_sentiments(appid)\n",
    "            game_review_data = load_reviews(appid)\n",
    "            df_game_reviews = pd.DataFrame(game_review_data['reviews']).loc[0:99]\n",
    "\n",
    "            df_game_row = pd.DataFrame({\n",
    "                'appid' : appid,\n",
    "                'review_score' : [game_review_data['review_score']],\n",
    "                'sent.mean_pos' : [df_sentiments['pos'].mean()],\n",
    "                'sent.mean_neg' : [df_sentiments['neg'].mean()],\n",
    "                'sent.mean_neu' : [df_sentiments['neu'].mean()],\n",
    "                'sent.mean_comp' : [df_sentiments['compound'].mean()]\n",
    "            })\n",
    "            df_reviews_rows = pd.DataFrame({\n",
    "                'appid' : [appid]*NEEDED_NUM_REVIEWS_PER_GAME,\n",
    "                'reviewid' : range(NEEDED_NUM_REVIEWS_PER_GAME),\n",
    "                'text' : df_game_reviews['text'],\n",
    "                'weighted_vote_score' : df_game_reviews['weighted_vote_score'],\n",
    "                'voted_up' : df_game_reviews['voted_up'],\n",
    "                'votes_up' : df_game_reviews['votes_up'],\n",
    "                'sent.pos' : df_sentiments['pos'],\n",
    "                'sent.neg' : df_sentiments['neg'],\n",
    "                'sent.neu' : df_sentiments['neu'],\n",
    "                'sent.comp' : df_sentiments['compound']\n",
    "            })\n",
    "\n",
    "            #df_all_games = pd.concat([df_all_games, df_game_row], ignore_index=True)\n",
    "            #df_all_reviews = pd.concat([df_all_reviews, df_reviews_rows], ignore_index=True)\n",
    "\n",
    "        df_games = pd.DataFrame(games_list)\n",
    "        df_reviews = pd.DataFrame(reviews_list)\n",
    "        df_games.to_pickle(\"all_games.pkl\")\n",
    "        df_reviews.to_pickle(\"all_reviews.pkl\")\n",
    "        return (df_games, df_reviews)\n",
    "\n",
    "    if ALREADY_COMBINED_DATASETS:\n",
    "        print(\"Loading from disk\")\n",
    "        return _load_game_review_sentiment_data()\n",
    "    else:\n",
    "        print(\"Combining data into dataframes\")\n",
    "        return _combine_game_review_sentiment_data()\n",
    "\n",
    "# Generate final dataframes\n",
    "df_games, df_reviews = get_games_and_reviews()\n",
    "num_games, num_reviews = df_games.shape[0], df_reviews.shape[0]\n",
    "assert num_reviews == num_games*NEEDED_NUM_REVIEWS_PER_GAME\n",
    "df_reviews['weighted_vote_score'] = df_reviews['weighted_vote_score'].astype(float)\n",
    "\n",
    "# Print for quick inspection\n",
    "print(\"games:\", num_games)\n",
    "print(\"reviews:\", num_reviews)\n",
    "display(\"df_games\", df_games.head())\n",
    "display(\"df_reviews\", df_reviews.head())"
   ]
  },
  {
   "attachments": {},
   "cell_type": "markdown",
   "metadata": {},
   "source": [
    "[< back to contents](####contents-of-this-notebook)\n",
    "***\n",
    "# 4 Statistical Analysis"
   ]
  },
  {
   "attachments": {},
   "cell_type": "markdown",
   "metadata": {},
   "source": [
    "Now we want to test our hypotheses\n",
    "\n",
    "* H1: There is a positive correlation between the sentiment of the reviews and the review-score of each game.\n",
    "* H2: There is a positive correlation between the sentiment of each review and its perceived helpfulness by the community.\n",
    "* H3: Reviews that recommend the game are more positive in their sentiment than reviews that do not recommend the game."
   ]
  },
  {
   "attachments": {},
   "cell_type": "markdown",
   "metadata": {},
   "source": [
    "## 4.1 Hypothesis H1\n",
    "\n",
    "> There is a positive correlation between the sentiment of the reviews and the review-score of each game."
   ]
  },
  {
   "cell_type": "code",
   "execution_count": 71,
   "metadata": {},
   "outputs": [
    {
     "name": "stdout",
     "output_type": "stream",
     "text": [
      "Correlation: 0.5215793161444982\n",
      "P-value: 0.0\n"
     ]
    }
   ],
   "source": [
    "H1_coeff, H1_p_value = stats.pearsonr(df_games['review_score'], df_games['sent.mean_comp'])\n",
    "print(\"Correlation:\", H1_coeff)\n",
    "print(\"P-value:\", H1_p_value)"
   ]
  },
  {
   "attachments": {},
   "cell_type": "markdown",
   "metadata": {},
   "source": [
    "Investigate the p-values not showing more decimals. \n",
    "Conclusion: 0.0 is smaller than 0.001 => very significant."
   ]
  },
  {
   "cell_type": "code",
   "execution_count": 56,
   "metadata": {},
   "outputs": [
    {
     "data": {
      "text/html": [
       "<div>\n",
       "<style scoped>\n",
       "    .dataframe tbody tr th:only-of-type {\n",
       "        vertical-align: middle;\n",
       "    }\n",
       "\n",
       "    .dataframe tbody tr th {\n",
       "        vertical-align: top;\n",
       "    }\n",
       "\n",
       "    .dataframe thead th {\n",
       "        text-align: right;\n",
       "    }\n",
       "</style>\n",
       "<table border=\"1\" class=\"dataframe\">\n",
       "  <thead>\n",
       "    <tr style=\"text-align: right;\">\n",
       "      <th></th>\n",
       "      <th>sample_count</th>\n",
       "      <th>coefficents</th>\n",
       "      <th>p_values</th>\n",
       "    </tr>\n",
       "  </thead>\n",
       "  <tbody>\n",
       "    <tr>\n",
       "      <th>0</th>\n",
       "      <td>10</td>\n",
       "      <td>-0.242032</td>\n",
       "      <td>4.733526e-01</td>\n",
       "    </tr>\n",
       "    <tr>\n",
       "      <th>1</th>\n",
       "      <td>100</td>\n",
       "      <td>0.218418</td>\n",
       "      <td>2.821223e-02</td>\n",
       "    </tr>\n",
       "    <tr>\n",
       "      <th>2</th>\n",
       "      <td>1000</td>\n",
       "      <td>0.468420</td>\n",
       "      <td>9.842054e-56</td>\n",
       "    </tr>\n",
       "    <tr>\n",
       "      <th>3</th>\n",
       "      <td>10000</td>\n",
       "      <td>0.555028</td>\n",
       "      <td>0.000000e+00</td>\n",
       "    </tr>\n",
       "  </tbody>\n",
       "</table>\n",
       "</div>"
      ],
      "text/plain": [
       "   sample_count  coefficents      p_values\n",
       "0            10    -0.242032  4.733526e-01\n",
       "1           100     0.218418  2.821223e-02\n",
       "2          1000     0.468420  9.842054e-56\n",
       "3         10000     0.555028  0.000000e+00"
      ]
     },
     "metadata": {},
     "output_type": "display_data"
    }
   ],
   "source": [
    "test_values = {'sample_count':[], 'coefficents':[], 'p_values':[]}\n",
    "for i in [10, 100, 1_000, 10_000]:\n",
    "    df_test = df_games.loc[0:i,:]\n",
    "    coeff, p_value = stats.pearsonr(df_test['review_score'], df_test['sent.mean_comp'])\n",
    "    test_values['sample_count'].append(i)\n",
    "    test_values['coefficents'].append(coeff)\n",
    "    test_values['p_values'].append(p_value)\n",
    "display(pd.DataFrame(test_values))"
   ]
  },
  {
   "attachments": {},
   "cell_type": "markdown",
   "metadata": {},
   "source": [
    "### Scatterplot"
   ]
  },
  {
   "cell_type": "code",
   "execution_count": 57,
   "metadata": {},
   "outputs": [
    {
     "data": {
      "image/png": "[encoded data removed]",
      "text/plain": [
       "<Figure size 500x500 with 1 Axes>"
      ]
     },
     "metadata": {},
     "output_type": "display_data"
    }
   ],
   "source": [
    "plt.figure(figsize=(5,5))\n",
    "plt.title(\"Review score of games with mean sentiment scores\")\n",
    "plt.scatter(df_games['sent.mean_comp'], df_games['review_score'])\n",
    "plt.xlabel(\"Sentiment compound score\")\n",
    "plt.ylabel(\"Review score\")\n",
    "plt.show()"
   ]
  },
  {
   "attachments": {},
   "cell_type": "markdown",
   "metadata": {},
   "source": [
    "## 4.2 Hypothesis H2\n",
    "\n",
    "> H2: There is a positive correlation between the sentiment of each review and its perceived helpfulness by the community."
   ]
  },
  {
   "cell_type": "code",
   "execution_count": 73,
   "metadata": {},
   "outputs": [
    {
     "name": "stdout",
     "output_type": "stream",
     "text": [
      "Correlation: 0.06897808371481899\n",
      "P-value: 0.0\n"
     ]
    }
   ],
   "source": [
    "H2_coeff, H2_p_value = stats.pearsonr(abs(df_reviews['sent.comp']), df_reviews['weighted_vote_score'])\n",
    "print(\"Correlation:\", H2_coeff)\n",
    "print(\"P-value:\", H2_p_value)"
   ]
  },
  {
   "attachments": {},
   "cell_type": "markdown",
   "metadata": {},
   "source": [
    "Same as before. We investigate how fast the p-value drops with increased sample size."
   ]
  },
  {
   "cell_type": "code",
   "execution_count": 64,
   "metadata": {},
   "outputs": [
    {
     "data": {
      "text/html": [
       "<div>\n",
       "<style scoped>\n",
       "    .dataframe tbody tr th:only-of-type {\n",
       "        vertical-align: middle;\n",
       "    }\n",
       "\n",
       "    .dataframe tbody tr th {\n",
       "        vertical-align: top;\n",
       "    }\n",
       "\n",
       "    .dataframe thead th {\n",
       "        text-align: right;\n",
       "    }\n",
       "</style>\n",
       "<table border=\"1\" class=\"dataframe\">\n",
       "  <thead>\n",
       "    <tr style=\"text-align: right;\">\n",
       "      <th></th>\n",
       "      <th>sample_count</th>\n",
       "      <th>coefficents</th>\n",
       "      <th>p_values</th>\n",
       "    </tr>\n",
       "  </thead>\n",
       "  <tbody>\n",
       "    <tr>\n",
       "      <th>0</th>\n",
       "      <td>10</td>\n",
       "      <td>0.097165</td>\n",
       "      <td>7.762537e-01</td>\n",
       "    </tr>\n",
       "    <tr>\n",
       "      <th>1</th>\n",
       "      <td>100</td>\n",
       "      <td>0.059177</td>\n",
       "      <td>5.566430e-01</td>\n",
       "    </tr>\n",
       "    <tr>\n",
       "      <th>2</th>\n",
       "      <td>1000</td>\n",
       "      <td>-0.048116</td>\n",
       "      <td>1.281835e-01</td>\n",
       "    </tr>\n",
       "    <tr>\n",
       "      <th>3</th>\n",
       "      <td>10000</td>\n",
       "      <td>0.018357</td>\n",
       "      <td>6.639646e-02</td>\n",
       "    </tr>\n",
       "    <tr>\n",
       "      <th>4</th>\n",
       "      <td>100000</td>\n",
       "      <td>0.053679</td>\n",
       "      <td>1.028059e-64</td>\n",
       "    </tr>\n",
       "    <tr>\n",
       "      <th>5</th>\n",
       "      <td>1000000</td>\n",
       "      <td>0.096381</td>\n",
       "      <td>0.000000e+00</td>\n",
       "    </tr>\n",
       "  </tbody>\n",
       "</table>\n",
       "</div>"
      ],
      "text/plain": [
       "   sample_count  coefficents      p_values\n",
       "0            10     0.097165  7.762537e-01\n",
       "1           100     0.059177  5.566430e-01\n",
       "2          1000    -0.048116  1.281835e-01\n",
       "3         10000     0.018357  6.639646e-02\n",
       "4        100000     0.053679  1.028059e-64\n",
       "5       1000000     0.096381  0.000000e+00"
      ]
     },
     "metadata": {},
     "output_type": "display_data"
    }
   ],
   "source": [
    "test_values = {'sample_count':[], 'coefficents':[], 'p_values':[]}\n",
    "for i in [10, 100, 1_000, 10_000, 100_000, 1_000_000]:\n",
    "    df_test = df_reviews.loc[0:i,:]\n",
    "    coeff, p_value = stats.pearsonr(abs(df_test['sent.comp']), df_test['weighted_vote_score'])\n",
    "    test_values['sample_count'].append(i)\n",
    "    test_values['coefficents'].append(coeff)\n",
    "    test_values['p_values'].append(p_value)\n",
    "display(pd.DataFrame(test_values))"
   ]
  },
  {
   "attachments": {},
   "cell_type": "markdown",
   "metadata": {},
   "source": [
    "### Distribution of the sentiment compound score values"
   ]
  },
  {
   "cell_type": "code",
   "execution_count": 83,
   "metadata": {},
   "outputs": [
    {
     "data": {
      "text/plain": [
       "Text(0.5, 0, 'Weighted vote score')"
      ]
     },
     "execution_count": 83,
     "metadata": {},
     "output_type": "execute_result"
    },
    {
     "data": {
      "image/png": "[encoded data removed]",
      "text/plain": [
       "<Figure size 1000x500 with 2 Axes>"
      ]
     },
     "metadata": {},
     "output_type": "display_data"
    }
   ],
   "source": [
    "fig, (ax1, ax2) = plt.subplots(1, 2, figsize=(10,5))\n",
    "ax1.hist(df_reviews['sent.comp'], bins=30)\n",
    "ax1.set_xlabel(\"Sentiment compound score\")\n",
    "\n",
    "ax2.hist(df_reviews['weighted_vote_score'], bins=30)\n",
    "ax2.set_xlabel(\"Weighted vote score\")"
   ]
  },
  {
   "attachments": {},
   "cell_type": "markdown",
   "metadata": {},
   "source": [
    "### Bootstrapping"
   ]
  },
  {
   "cell_type": "code",
   "execution_count": 86,
   "metadata": {},
   "outputs": [
    {
     "data": {
      "image/png": "[encoded data removed]",
      "text/plain": [
       "<Figure size 500x500 with 1 Axes>"
      ]
     },
     "metadata": {},
     "output_type": "display_data"
    },
    {
     "name": "stdout",
     "output_type": "stream",
     "text": [
      "Interval [-0.29294354576106174, 0.4896036074562951]\n"
     ]
    }
   ],
   "source": [
    "coefficents = []\n",
    "for _ in range(10_000):\n",
    "    sampled = df_reviews.sample(100, replace=True)\n",
    "    coeff, p_value = stats.pearsonr(abs(sampled['sent.comp']), sampled['weighted_vote_score'])\n",
    "    coefficents.append(coeff)\n",
    "coefficents = np.array(coefficents)\n",
    "\n",
    "plt.figure(figsize=(5,5))\n",
    "plt.hist(coefficents, bins=30, edgecolor='black')\n",
    "plt.title(\"Distribution of Bootstrap Coefficients\")\n",
    "plt.ylabel(\"Bootstrap Coefficients\")\n",
    "plt.axvline(H2_coeff, color=\"red\")\n",
    "plt.show()\n",
    "\n",
    "print(f\"Interval [{min(coefficents)}, {max(coefficents)}]\")"
   ]
  },
  {
   "attachments": {},
   "cell_type": "markdown",
   "metadata": {},
   "source": [
    "## 4.3 Hypothesis H3\n",
    "\n",
    "> H3: Reviews that recommend the game are more positive in their sentiment than reviews that do not recommend the game."
   ]
  },
  {
   "attachments": {},
   "cell_type": "markdown",
   "metadata": {},
   "source": [
    "#### Reviews that recommend the game"
   ]
  },
  {
   "cell_type": "code",
   "execution_count": 145,
   "metadata": {},
   "outputs": [
    {
     "name": "stdout",
     "output_type": "stream",
     "text": [
      "Reviews that recommend the game\n",
      "recommending reviews: 1634277\n",
      "mean positive sentiment: 0.5662239961769027\n"
     ]
    },
    {
     "data": {
      "text/html": [
       "<div>\n",
       "<style scoped>\n",
       "    .dataframe tbody tr th:only-of-type {\n",
       "        vertical-align: middle;\n",
       "    }\n",
       "\n",
       "    .dataframe tbody tr th {\n",
       "        vertical-align: top;\n",
       "    }\n",
       "\n",
       "    .dataframe thead th {\n",
       "        text-align: right;\n",
       "    }\n",
       "</style>\n",
       "<table border=\"1\" class=\"dataframe\">\n",
       "  <thead>\n",
       "    <tr style=\"text-align: right;\">\n",
       "      <th></th>\n",
       "      <th>appid</th>\n",
       "      <th>reviewid</th>\n",
       "      <th>sent.comp</th>\n",
       "    </tr>\n",
       "  </thead>\n",
       "  <tbody>\n",
       "    <tr>\n",
       "      <th>0</th>\n",
       "      <td>10</td>\n",
       "      <td>0</td>\n",
       "      <td>-0.2584</td>\n",
       "    </tr>\n",
       "    <tr>\n",
       "      <th>1</th>\n",
       "      <td>10</td>\n",
       "      <td>1</td>\n",
       "      <td>0.9442</td>\n",
       "    </tr>\n",
       "    <tr>\n",
       "      <th>2</th>\n",
       "      <td>10</td>\n",
       "      <td>2</td>\n",
       "      <td>0.3400</td>\n",
       "    </tr>\n",
       "    <tr>\n",
       "      <th>3</th>\n",
       "      <td>10</td>\n",
       "      <td>3</td>\n",
       "      <td>0.3612</td>\n",
       "    </tr>\n",
       "    <tr>\n",
       "      <th>4</th>\n",
       "      <td>10</td>\n",
       "      <td>4</td>\n",
       "      <td>0.3400</td>\n",
       "    </tr>\n",
       "  </tbody>\n",
       "</table>\n",
       "</div>"
      ],
      "text/plain": [
       "   appid  reviewid  sent.comp\n",
       "0     10         0    -0.2584\n",
       "1     10         1     0.9442\n",
       "2     10         2     0.3400\n",
       "3     10         3     0.3612\n",
       "4     10         4     0.3400"
      ]
     },
     "metadata": {},
     "output_type": "display_data"
    }
   ],
   "source": [
    "df_votedup_reviews = df_reviews.loc[df_reviews['voted_up'] == True, ['appid', 'reviewid' ,'sent.comp']]\n",
    "mean_sent_recommended = df_votedup_reviews['sent.comp'].mean()\n",
    "group_recommend = df_votedup_reviews['sent.comp'].to_list()\n",
    "\n",
    "print(\"Reviews that recommend the game\")\n",
    "print(\"recommending reviews:\", df_votedup_reviews.shape[0])\n",
    "print(\"mean positive sentiment:\", mean_sent_recommended)\n",
    "display(df_votedup_reviews.head())"
   ]
  },
  {
   "attachments": {},
   "cell_type": "markdown",
   "metadata": {},
   "source": [
    "#### Reviews that DO NOT recommend the game"
   ]
  },
  {
   "cell_type": "code",
   "execution_count": 144,
   "metadata": {},
   "outputs": [
    {
     "name": "stdout",
     "output_type": "stream",
     "text": [
      "Reviews that do not recommend the game\n",
      "not recommending reviews: 570223\n",
      "mean positive sentiment: 0.0077287811961285315\n"
     ]
    },
    {
     "data": {
      "text/html": [
       "<div>\n",
       "<style scoped>\n",
       "    .dataframe tbody tr th:only-of-type {\n",
       "        vertical-align: middle;\n",
       "    }\n",
       "\n",
       "    .dataframe tbody tr th {\n",
       "        vertical-align: top;\n",
       "    }\n",
       "\n",
       "    .dataframe thead th {\n",
       "        text-align: right;\n",
       "    }\n",
       "</style>\n",
       "<table border=\"1\" class=\"dataframe\">\n",
       "  <thead>\n",
       "    <tr style=\"text-align: right;\">\n",
       "      <th></th>\n",
       "      <th>appid</th>\n",
       "      <th>reviewid</th>\n",
       "      <th>sent.comp</th>\n",
       "    </tr>\n",
       "  </thead>\n",
       "  <tbody>\n",
       "    <tr>\n",
       "      <th>97</th>\n",
       "      <td>10</td>\n",
       "      <td>97</td>\n",
       "      <td>0.0000</td>\n",
       "    </tr>\n",
       "    <tr>\n",
       "      <th>109</th>\n",
       "      <td>20</td>\n",
       "      <td>9</td>\n",
       "      <td>0.9408</td>\n",
       "    </tr>\n",
       "    <tr>\n",
       "      <th>114</th>\n",
       "      <td>20</td>\n",
       "      <td>14</td>\n",
       "      <td>-0.6486</td>\n",
       "    </tr>\n",
       "    <tr>\n",
       "      <th>157</th>\n",
       "      <td>20</td>\n",
       "      <td>57</td>\n",
       "      <td>0.9906</td>\n",
       "    </tr>\n",
       "    <tr>\n",
       "      <th>203</th>\n",
       "      <td>30</td>\n",
       "      <td>3</td>\n",
       "      <td>-0.5859</td>\n",
       "    </tr>\n",
       "  </tbody>\n",
       "</table>\n",
       "</div>"
      ],
      "text/plain": [
       "     appid  reviewid  sent.comp\n",
       "97      10        97     0.0000\n",
       "109     20         9     0.9408\n",
       "114     20        14    -0.6486\n",
       "157     20        57     0.9906\n",
       "203     30         3    -0.5859"
      ]
     },
     "metadata": {},
     "output_type": "display_data"
    }
   ],
   "source": [
    "df_voteddown_reviews = df_reviews.loc[df_reviews['voted_up'] == False, ['appid', 'reviewid', 'sent.comp']]\n",
    "mean_sent_not_recommended = df_voteddown_reviews['sent.comp'].mean()\n",
    "group_not_recommend = df_voteddown_reviews['sent.comp'].to_list()\n",
    "\n",
    "print(\"Reviews that do not recommend the game\")\n",
    "print(\"not recommending reviews:\", df_voteddown_reviews.shape[0])\n",
    "print(\"mean positive sentiment:\", mean_sent_not_recommended)\n",
    "display(df_voteddown_reviews.head())"
   ]
  },
  {
   "attachments": {},
   "cell_type": "markdown",
   "metadata": {},
   "source": [
    "#### Outliers"
   ]
  },
  {
   "cell_type": "code",
   "execution_count": 137,
   "metadata": {},
   "outputs": [
    {
     "name": "stdout",
     "output_type": "stream",
     "text": [
      "Num voted down outliers: 0\n",
      "Num voted up outliers: 75704\n"
     ]
    }
   ],
   "source": [
    "def extract_outliers(df:pd.DataFrame, column:str) -> pd.DataFrame:\n",
    "    q1 = df[column].quantile(0.25)\n",
    "    q3 = df[column].quantile(0.75)\n",
    "    iqr = q3-q1\n",
    "    return df[((df[column]<(q1-1.5*iqr)) | (df[column]>(q3+1.5*iqr)))]\n",
    "\n",
    "df_outliers_down = extract_outliers(df_voteddown_reviews, 'sent.comp')\n",
    "df_outliers_up = extract_outliers(df_votedup_reviews, 'sent.comp')\n",
    "\n",
    "print(\"Num voted down outliers:\", df_outliers_down.shape[0])\n",
    "print(\"Num voted up outliers:\", df_outliers_up.shape[0])"
   ]
  },
  {
   "attachments": {},
   "cell_type": "markdown",
   "metadata": {},
   "source": [
    "#### Boxplots"
   ]
  },
  {
   "cell_type": "code",
   "execution_count": 139,
   "metadata": {},
   "outputs": [
    {
     "data": {
      "image/png": "[encoded data removed]",
      "text/plain": [
       "<Figure size 800x500 with 1 Axes>"
      ]
     },
     "metadata": {},
     "output_type": "display_data"
    }
   ],
   "source": [
    "fig, ax = plt.subplots(figsize=(8, 5))\n",
    "ax.yaxis.grid(True, linestyle='-', color='lightgrey')\n",
    "ax.boxplot([\n",
    "    df_votedup_reviews['sent.comp'].tolist(), \n",
    "    df_voteddown_reviews['sent.comp'].tolist()], \n",
    "    patch_artist=True)\n",
    "ax.set_xticklabels(['recommending reviews', 'not recommending reviews'])\n",
    "ax.set_title(\"Boxplots of H3\")\n",
    "plt.show()"
   ]
  },
  {
   "attachments": {},
   "cell_type": "markdown",
   "metadata": {},
   "source": [
    "#### Check the distributions of both groups"
   ]
  },
  {
   "cell_type": "code",
   "execution_count": 143,
   "metadata": {},
   "outputs": [
    {
     "data": {
      "image/png": "[encoded data removed]",
      "text/plain": [
       "<Figure size 1000x500 with 2 Axes>"
      ]
     },
     "metadata": {},
     "output_type": "display_data"
    }
   ],
   "source": [
    "fig, (ax1, ax2) = plt.subplots(nrows=1, ncols=2, figsize=(10, 5))\n",
    "ax1.hist(df_votedup_reviews['sent.comp'], bins=50, edgecolor='black')\n",
    "ax1.set_xlabel('')\n",
    "ax2.hist(df_voteddown_reviews['sent.comp'], bins=50, edgecolor='black')\n",
    "plt.show()"
   ]
  },
  {
   "attachments": {},
   "cell_type": "markdown",
   "metadata": {},
   "source": [
    "#### Levene-Test\n",
    "with a Levene-Test check for:\n",
    "* Homoskedasticity (Standard deviation of both groups are 'equal') OR \n",
    "* Heteroskedasticity ('Different' standard deviations)"
   ]
  },
  {
   "cell_type": "code",
   "execution_count": 163,
   "metadata": {},
   "outputs": [
    {
     "name": "stdout",
     "output_type": "stream",
     "text": [
      "Variances are significant different => Heteroskedasticity\n"
     ]
    }
   ],
   "source": [
    "statistic, p_value = stats.levene(group_recommend, group_not_recommend, center='mean')\n",
    "significant = p_value < 0.05\n",
    "equal_variances = not significant\n",
    "if not significant:\n",
    "    print(\"Variances are not significant different => Homoskedasticity\")\n",
    "else:\n",
    "    print(\"Variances are significant different => Heteroskedasticity\")"
   ]
  },
  {
   "attachments": {},
   "cell_type": "markdown",
   "metadata": {},
   "source": [
    "#### t-Test"
   ]
  },
  {
   "cell_type": "code",
   "execution_count": 164,
   "metadata": {},
   "outputs": [
    {
     "name": "stdout",
     "output_type": "stream",
     "text": [
      "Statistic: 576.92297459296\n",
      "P-value: 0.0\n"
     ]
    }
   ],
   "source": [
    "statistic, p_value = stats.ttest_ind(a=group_recommend, b=group_not_recommend, equal_var=equal_variances)\n",
    "print(\"Statistic:\", statistic)\n",
    "print(\"P-value:\", p_value)"
   ]
  },
  {
   "cell_type": "code",
   "execution_count": 162,
   "metadata": {},
   "outputs": [
    {
     "data": {
      "image/png": "[encoded data removed]",
      "text/plain": [
       "<Figure size 500x500 with 1 Axes>"
      ]
     },
     "metadata": {},
     "output_type": "display_data"
    },
    {
     "name": "stdout",
     "output_type": "stream",
     "text": [
      "Interval [0.2721009999999999, 0.8983300000000001]\n"
     ]
    }
   ],
   "source": [
    "diffs = []\n",
    "for _ in range(10_000):\n",
    "    sampled_votedup = df_votedup_reviews.sample(100, replace=True)\n",
    "    sampled_voteddown = df_voteddown_reviews.sample(100, replace=True)\n",
    "    sampled_diff = sampled_votedup['sent.comp'].mean() - sampled_voteddown['sent.comp'].mean()\n",
    "    diffs.append(sampled_diff)\n",
    "diffs = np.array(diffs)\n",
    "\n",
    "H3_diff = mean_sent_recommended - mean_sent_not_recommended\n",
    "fig, ax = plt.subplots(1, 1,  figsize=(5,5))\n",
    "ax.hist(diffs, bins=30, edgecolor='black')\n",
    "ax.set_title(\"H3 Bootstrapping\")\n",
    "ax.set_xlabel(\"Sentiment compound score\")\n",
    "ax.set_ylabel(\"Coefficient\")\n",
    "ax.axvline(H3_diff, color=\"red\")\n",
    "plt.show()\n",
    "\n",
    "print(f\"Interval [{min(diffs)}, {max(diffs)}]\")"
   ]
  },
  {
   "attachments": {},
   "cell_type": "markdown",
   "metadata": {},
   "source": [
    "***\n",
    "[< back to contents](####contents-of-this-notebook)\n",
    "### 5 Conclusions"
   ]
  },
  {
   "cell_type": "code",
   "execution_count": 134,
   "metadata": {},
   "outputs": [
    {
     "name": "stdout",
     "output_type": "stream",
     "text": [
      "H1: There is a positive correlation between the sentiment of the reviews and the review-score of each game.\n",
      " => 0.5215793161444982, True\n",
      "\n",
      "H2: There is a positive correlation between the sentiment of each review and its perceived helpfulness by the community.\n",
      " => 0.06897808371481899, True\n",
      "\n",
      "H3: Reviews that recommend the game are more positive in their sentiment than reviews that do not recommend the game.\n",
      " => True\n"
     ]
    }
   ],
   "source": [
    "print(\"H1: There is a positive correlation between the sentiment of the reviews and the review-score of each game.\\n\"\n",
    "    f\" => {H1_coeff}, {H1_coeff > 0}\\n\\n\"\n",
    "    \"H2: There is a positive correlation between the sentiment of each review and its perceived helpfulness by the community.\\n\"\n",
    "    f\" => {H2_coeff}, {H2_coeff > 0}\\n\\n\"\n",
    "    \"H3: Reviews that recommend the game are more positive in their sentiment than reviews that do not recommend the game.\\n\"\n",
    "    f\" => {mean_sent_recommended > mean_sent_not_recommended}\")"
   ]
  },
  {
   "attachments": {},
   "cell_type": "markdown",
   "metadata": {},
   "source": [
    "[< back to contents](####contents-of-this-notebook)\n",
    "***\n",
    "~ You've come to the end of this project. We hope it was interesting to look into and you learned something about human behaviour. :) \n",
    "\n",
    "[^ go to top](#project-sentiment-analysis-on-steam-games)"
   ]
  }
 ],
 "metadata": {
  "kernelspec": {
   "display_name": "Python 3.10.6 64-bit",
   "language": "python",
   "name": "python3"
  },
  "language_info": {
   "codemirror_mode": {
    "name": "ipython",
    "version": 3
   },
   "file_extension": ".py",
   "mimetype": "text/x-python",
   "name": "python",
   "nbconvert_exporter": "python",
   "pygments_lexer": "ipython3",
   "version": "3.10.6"
  },
  "orig_nbformat": 4,
  "vscode": {
   "interpreter": {
    "hash": "916dbcbb3f70747c44a77c7bcd40155683ae19c65e1c03b4aa3499c5328201f1"
   }
  }
 },
 "nbformat": 4,
 "nbformat_minor": 2
}
